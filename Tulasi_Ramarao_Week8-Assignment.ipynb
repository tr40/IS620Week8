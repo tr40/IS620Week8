{
 "cells": [
  {
   "cell_type": "markdown",
   "metadata": {},
   "source": [
    "<h1><font color= green> Text Analysis Using NetworkX</font></h1>"
   ]
  },
  {
   "cell_type": "markdown",
   "metadata": {},
   "source": [
    "<b>Tulasi Ramarao IS620 Week8 Assignment: <br>\n",
    "Assignment – High Frequency Words <br>\n",
    "Please answer the following questions in an IPython Notebook, posted to GitHub.<br>\n",
    "a) Choose a corpus of interest.<br><br>\n",
    "b) How many total unique words are in the corpus? (Please feel free to define unique words in any interesting, defensible way).<br>\n",
    "c)Taking the most common words, how many unique words represent half of the total words in the corpus?<br>\n",
    "d)Identify the 200 highest frequency words in this corpus.<br>\n",
    "e)Create a graph that shows the relative frequency of these 200 words.<br>\n",
    "f)Does the observed relative frequency of these words follow Zipf’s law? Explain.<br>\n",
    "g)In what ways do you think the frequency of the words in this corpus differ from “all words in all corpora.”<br><b>"
   ]
  },
  {
   "cell_type": "markdown",
   "metadata": {},
   "source": [
    "<b>Tulasi Ramarao IS620 Week8 Assignment:  </b>   <br>\n",
    "a) Corpus of interest chosen: http://time.com/3923128/donald-trump-announcement-speech/\n",
    "<p>This project will take the presidential bid announcement speech from Donald Trump and will  analyze the plain text file. The project will first convert into a list of \n",
    "newline-separated sentences and will compute word frequencies. Meanwhile the program will do lowercasing and will filter out the common words. From the most common words, a weighted graph of word co-occurrences are created and displayed. The graph structure is summarized by Eigenvector centrality ranking.</p>\n",
    "<br>\n"
   ]
  },
  {
   "cell_type": "code",
   "execution_count": 1,
   "metadata": {
    "collapsed": false
   },
   "outputs": [
    {
     "name": "stdout",
     "output_type": "stream",
     "text": [
      "Populating the interactive namespace from numpy and matplotlib\n"
     ]
    }
   ],
   "source": [
    "%pylab inline\n",
    "sys.path.append('/Users/tulasiramarao/anaconda/lib/python2.7/site-packages/')\n",
    "import sys\n",
    "import re\n",
    "import unidecode\n",
    "import string\n",
    "from unidecode import unidecode\n",
    "import nltk, re, pprint\n",
    "import networkx as nx"
   ]
  },
  {
   "cell_type": "code",
   "execution_count": 2,
   "metadata": {
    "collapsed": true
   },
   "outputs": [],
   "source": [
    "# to filter out unwanted chars\n",
    "def filter_func(char):\n",
    "    return char == '\\n' or 32 <= ord(char) <= 126\n",
    "# and later:\n",
    "    filtered_data = filter(filter_func, data).lower()"
   ]
  },
  {
   "cell_type": "code",
   "execution_count": 3,
   "metadata": {
    "collapsed": true
   },
   "outputs": [],
   "source": [
    "#default_url  = \"https://github.com/tramarao/IS620Week4Project/trumpSpeech.txt\"\n",
    "#n_words = 15\n",
    "#n_nodes = 15\n",
    "n_words = 200\n",
    "n_nodes = 100\n",
    "\n",
    "#make a copy\n",
    "#url  = default_url\n",
    "    "
   ]
  },
  {
   "cell_type": "markdown",
   "metadata": {},
   "source": [
    "Fetch text and do basic preprocessing."
   ]
  },
  {
   "cell_type": "code",
   "execution_count": 4,
   "metadata": {
    "collapsed": true
   },
   "outputs": [],
   "source": [
    "from bs4 import BeautifulSoup\n",
    "import re\n",
    "from nltk.corpus import stopwords\n"
   ]
  },
  {
   "cell_type": "code",
   "execution_count": 5,
   "metadata": {
    "collapsed": false
   },
   "outputs": [],
   "source": [
    "def To_wordlist( review, remove_stopwords=False ):\n",
    "    review_text = BeautifulSoup(review).get_text()\n",
    "    review_text = re.sub(\"[^a-zA-Z]\",\" \", review_text)\n",
    "    words = review_text.lower().split()\n",
    "    if remove_stopwords:\n",
    "        stops = set(stopwords.words(\"english\"))\n",
    "        words = [w for w in words if not w in stops]\n",
    "    return(words)\n",
    "\n",
    "\n",
    "def To_sentences( review, tokenizer, remove_stopwords=False ):\n",
    "    raw_sentences = tokenizer.tokenize(review.strip())\n",
    "    sentences = []\n",
    "    for raw_sentence in raw_sentences:\n",
    "        if len(raw_sentence) > 0:\n",
    "            sentences.append( To_wordlist( raw_sentence,remove_stopwords ))\n",
    "    return sentences\n"
   ]
  },
  {
   "cell_type": "code",
   "execution_count": 6,
   "metadata": {
    "collapsed": false
   },
   "outputs": [],
   "source": [
    "# Download the punkt tokenizer for sentence splitting\n",
    "#import nltk.data\n",
    "#nltk.download()   \n",
    "\n",
    "# Load the punkt tokenizer\n",
    "tokenizer = nltk.data.load('tokenizers/punkt/english.pickle')\n"
   ]
  },
  {
   "cell_type": "code",
   "execution_count": 7,
   "metadata": {
    "collapsed": false
   },
   "outputs": [],
   "source": [
    "from urllib import urlopen \n",
    "url = \"http://time.com/3923128/donald-trump-announcement-speech/\"\n",
    "html = urlopen(url).read()\n",
    "#html[:60]\n",
    "\n",
    "# Fetch text and do basic preprocessing\n",
    "#text = get_text_from_url(url).lower()\n",
    "lines = html.splitlines()\n",
    "\n",
    "    \n",
    "sentences = To_sentences(html, tokenizer )\n",
    "# This is where Trump's speech starts\n",
    "sentences = sentences[23:200]\n",
    "#print(sentences)\n",
    "\n",
    "# This is where Trump's speech starts\n",
    "\n"
   ]
  },
  {
   "cell_type": "markdown",
   "metadata": {},
   "source": [
    "Compute frequency histogram."
   ]
  },
  {
   "cell_type": "code",
   "execution_count": 8,
   "metadata": {
    "collapsed": true
   },
   "outputs": [],
   "source": [
    "\n",
    "def word_num(text):\n",
    "    wordnum = 0\n",
    "    for word2 in text:\n",
    "        for word3 in word2:\n",
    "            wordnum = wordnum + 1\n",
    "    return wordnum\n",
    "\n",
    "\n",
    "def text_cleanup(text, min_length=3,\n",
    "                 remove = set(['for', 'the', 'and', 'with'])):\n",
    "    a = []\n",
    "    for w1 in text:\n",
    "        #print(\"Inside textcleanup\")\n",
    "        #print(w1)\n",
    "        for w2 in w1:\n",
    "            #print(w2)\n",
    "            #print('length***1=',len(w2))\n",
    "            if len(w2) >= min_length: \n",
    "                #print(\"HI !!!!\" )\n",
    "                #print(w2)\n",
    "                if w2 not in remove:\n",
    "                    #print(\"HI2222 !!!!\" )\n",
    "                    #print(w2)\n",
    "                    a.append(w2)\n",
    "    return a\n",
    " "
   ]
  },
  {
   "cell_type": "code",
   "execution_count": 9,
   "metadata": {
    "collapsed": true
   },
   "outputs": [],
   "source": [
    "\n",
    "def word_num(text):\n",
    "    wordnum = 0\n",
    "    for word2 in text:\n",
    "        for word3 in word2:\n",
    "            wordnum = wordnum + 1\n",
    "    return wordnum\n",
    "\n",
    "def sort_freqs(freqs):\n",
    "    items = freqs.items()\n",
    "    items.sort(key = lambda wc: wc[1])\n",
    "    return items\n",
    "\n"
   ]
  },
  {
   "cell_type": "code",
   "execution_count": 10,
   "metadata": {
    "collapsed": false
   },
   "outputs": [],
   "source": [
    "#sentences1 = text_cleanup(sentences)\n",
    "#print(\"sentences\")\n",
    "#print(sentences)\n",
    "def word_freq(text):\n",
    "    freqs = {}\n",
    "    for word1 in text:\n",
    "        for word in word1:\n",
    "            wordspl= word.split()\n",
    "            freqs[word] = freqs.get(wordspl[0], 0) + 1\n",
    "    return freqs\n",
    "\n",
    "wf = word_freq(sentences)\n",
    "\n",
    "\n",
    "#print(wf)\n",
    "sorted_wf = sort_freqs(wf)\n",
    "#print(sorted_wf)"
   ]
  },
  {
   "cell_type": "markdown",
   "metadata": {},
   "source": [
    "Build a graph from the n_nodes most frequent words."
   ]
  },
  {
   "cell_type": "code",
   "execution_count": 11,
   "metadata": {
    "collapsed": true
   },
   "outputs": [],
   "source": [
    "def all_pairs(items):\n",
    "    \"\"\"Make all unique pairs \"\"\"\n",
    "    pairs = []\n",
    "    nitems = len(items)\n",
    "    for i, wi in enumerate(items):\n",
    "        for j in range(i+1, nitems):\n",
    "            pairs.append((wi, items[j]))\n",
    "    return pairs\n",
    "\n",
    "def co_occurrences(lines, words):\n",
    "    wpairs = all_pairs(words)\n",
    "    co_occur = {}\n",
    "    for w1, w2 in wpairs:\n",
    "        rx = re.compile('%s .*%s|%s .*%s' % (w1, w2, w2, w1))\n",
    "        co_occur[w1, w2] = sum([1 for line in lines if rx.search(line)])\n",
    "\n",
    "    return co_occur\n",
    "\n",
    "\n",
    "def co_occurrences_graph(word_hist, co_occur, cutoff=0):\n",
    "    g = nx.Graph()\n",
    "    for word, count in word_hist:\n",
    "        g.add_node(word, count=count)\n",
    "    for (w1, w2), count in co_occur.iteritems():\n",
    "        if count<=cutoff:\n",
    "            continue\n",
    "        g.add_edge(w1, w2, weight=count)\n",
    "    return g\n",
    "\n"
   ]
  },
  {
   "cell_type": "code",
   "execution_count": 12,
   "metadata": {
    "collapsed": false
   },
   "outputs": [],
   "source": [
    "popular = sorted_wf[-n_nodes:]\n",
    "pop_words = [wc[0] for wc in popular]\n",
    "#print(pop_words)\n",
    "#print(lines)\n",
    "co_occur = co_occurrences(lines, pop_words)\n",
    "# to plot graph later\n",
    "wgraph = co_occurrences_graph(popular, co_occur, cutoff=1)\n",
    "#centrality = nx.eigenvector_centrality_numpy(wgraph)\n"
   ]
  },
  {
   "cell_type": "code",
   "execution_count": null,
   "metadata": {
    "collapsed": true
   },
   "outputs": [],
   "source": []
  },
  {
   "cell_type": "markdown",
   "metadata": {},
   "source": [
    "Print summaries of single-word frequencies and graph structure."
   ]
  },
  {
   "cell_type": "code",
   "execution_count": 13,
   "metadata": {
    "collapsed": true
   },
   "outputs": [],
   "source": [
    "def summarize_freq_hist(freqs, n=73):\n",
    "    items = sort_freqs(freqs) if isinstance(freqs, dict) else freqs\n",
    "    print 'b) How many total unique words are in the corpus? '\n",
    "    print 'Number of unique words:',len(freqs)\n",
    "    print\n",
    "    #print '%d least frequent words:' % n\n",
    "    #print_vk(items[:n])\n",
    "    #print\n",
    "    #print '%d most frequent words:' % n\n",
    "    #print_vk(items[-n:])\n",
    "    addup = items[-n:]\n",
    "    adduptotal = 0\n",
    "    for item in addup:\n",
    "        addup = item[1]\n",
    "        #print 'whats here '\n",
    "        #print addup\n",
    "        adduptotal = adduptotal + addup\n",
    "    print 'Total number of words:', adduptotal\n",
    "    print 'c) Total number of Frequent words used to make it add up close to 50% of total words:', n\n",
    "  \n"
   ]
  },
  {
   "cell_type": "code",
   "execution_count": 14,
   "metadata": {
    "collapsed": true
   },
   "outputs": [],
   "source": [
    "def summarize_centrality(centrality):\n",
    "    c = centrality.items()\n",
    "    c.sort(key=lambda x:x[1], reverse=True)\n",
    "    print '\\nGraph centrality'\n",
    "    for node, cent in c:\n",
    "        print \"%15s: %.3g\" % (node, cent)\n"
   ]
  },
  {
   "cell_type": "code",
   "execution_count": 15,
   "metadata": {
    "collapsed": false
   },
   "outputs": [],
   "source": [
    "def text_cleanup(text, min_length=3,\n",
    "                 remove = set(['for', 'the', 'and', 'with'])):\n",
    "    a = []\n",
    "    for w1 in text:\n",
    "        #print(\"Inside textcleanup\")\n",
    "        #print(w1)\n",
    "        for w2 in w1:\n",
    "            #print(w2)\n",
    "            #print('length***1=',len(w2))\n",
    "            if len(w2) >= min_length: \n",
    "                #print(\"HI !!!!\" )\n",
    "                #print(w2)\n",
    "                if w2 not in remove:\n",
    "                    #print(\"HI2222 !!!!\" )\n",
    "                    #print(w2)\n",
    "                    a.append(w2)\n",
    "    return a\n",
    " "
   ]
  },
  {
   "cell_type": "code",
   "execution_count": 16,
   "metadata": {
    "collapsed": false
   },
   "outputs": [
    {
     "name": "stdout",
     "output_type": "stream",
     "text": [
      "b) How many total unique words are in the corpus? \n",
      "Number of unique words: 500\n",
      "\n",
      "Total number of words: 1402\n",
      "c) Total number of Frequent words used to make it add up close to 50% of total words: 73\n",
      "\n",
      "Total number of words Now: 2206\n"
     ]
    }
   ],
   "source": [
    "summarize_freq_hist(sorted_wf)\n",
    "totalWords = word_num(sentences)\n",
    "wor = text_cleanup(sentences)\n",
    "#print(\"wor=\") \n",
    "#print(wor)\n",
    "print ''\n",
    "print 'Total number of words Now:', totalWords\n",
    "\n"
   ]
  },
  {
   "cell_type": "code",
   "execution_count": 17,
   "metadata": {
    "collapsed": false
   },
   "outputs": [],
   "source": [
    "#print(sorted_wf)\n",
    "#print(wf)"
   ]
  },
  {
   "cell_type": "code",
   "execution_count": 18,
   "metadata": {
    "collapsed": false
   },
   "outputs": [
    {
     "name": "stdout",
     "output_type": "stream",
     "text": [
      "d) 200 highest frequency words in this corpus* \n",
      "\n",
      "[(u'they', 76), (u'have', 43), (u'that', 40), (u'you', 33), (u'our', 27), (u'are', 22), (u'don', 21), (u'can', 19), (u'people', 18), (u'great', 15), (u'but', 15), (u'going', 14), (u'was', 14), (u'all', 13), (u'because', 13), (u'what', 12), (u'not', 12), (u'need', 12), (u'jobs', 12), (u'country', 12), (u'know', 12), (u'from', 11), (u'this', 11), (u'them', 11), (u'will', 11), (u'when', 10), (u'now', 9), (u'over', 8), (u'happen', 8), (u'bring', 8), (u'has', 8), (u'time', 8), (u'even', 7), (u'iraq', 7), (u'tell', 7), (u'think', 7), (u'china', 7), (u'make', 7), (u'back', 7), (u'right', 7), (u'love', 6), (u'would', 6), (u'more', 6), (u'how', 6), (u'really', 6), (u'believe', 6), (u'say', 6), (u'take', 6), (u'get', 6), (u'said', 6), (u'like', 6), (u'there', 6), (u'again', 6), (u'obamacare', 5), (u'leader', 5), (u'iran', 5), (u'sending', 5), (u'cheerleader', 5), (u'work', 5), (u'good', 5), (u'somebody', 5), (u'their', 5), (u'than', 5), (u'anybody', 5), (u'thousands', 5), (u'beat', 5), (u'stop', 5), (u'last', 5), (u'much', 5), (u'website', 5), (u'mexico', 5), (u'just', 5), (u'big', 5), (u'very', 4), (u'ever', 4), (u'everybody', 4), (u'want', 4), (u'thank', 4), (u'didn', 4), (u'doing', 4), (u'wonderful', 4), (u'truly', 4), (u'job', 4), (u'been', 4), (u'speeches', 4), (u'else', 4), (u'east', 4), (u'these', 4), (u'middle', 4), (u'well', 4), (u'some', 4), (u'deal', 4), (u'hear', 4), (u'out', 4), (u'billion', 4), (u'bringing', 3), (u'saw', 3), (u'never', 3), (u'military', 3), (u'makes', 3), (u'then', 3), (u'successful', 3), (u'heard', 3), (u'something', 3), (u'coming', 3), (u'president', 3), (u'maybe', 3), (u'pay', 3), (u'talk', 3), (u'japan', 3), (u'better', 3), (u'fully', 3), (u'one', 3), (u'trillion', 3), (u'lobbyists', 3), (u'hotel', 3), (u'zero', 3), (u'nothing', 3), (u'money', 3), (u'stupid', 3), (u'disaster', 3), (u'best', 3), (u'killing', 3), (u'taking', 3), (u'interest', 3), (u'life', 3), (u'oil', 3), (u'running', 3), (u'real', 3), (u'about', 3), (u'anything', 3), (u'getting', 3), (u'below', 3), (u'doesn', 3), (u'percent', 3), (u'politicians', 3), (u'problems', 3), (u'send', 2), (u'thriving', 2), (u'economically', 2), (u'force', 2), (u'sign', 2), (u'rate', 2), (u'goes', 2), (u'let', 2), (u'next', 2), (u'states', 2), (u'anywhere', 2), (u'example', 2), (u'sense', 2), (u'needs', 2), (u'united', 2), (u'watch', 2), (u'remember', 2), (u'office', 2), (u'group', 2), (u'labor', 2), (u'day', 2), (u'courses', 2), (u'victories', 2), (u'leave', 2), (u'got', 2), (u'vets', 2), (u'thing', 2), (u'place', 2), (u'number', 2), (u'wasn', 2), (u'impossible', 2), (u'friend', 2), (u'took', 2), (u'obama', 2), (u'tractor', 2), (u'border', 2), (u'built', 2), (u'incentive', 2), (u'equipment', 2), (u'play', 2), (u'who', 2), (u'plan', 2), (u'america', 2), (u'stronger', 2), (u'wounded', 2), (u'came', 2), (u'saying', 2), (u'soldiers', 2), (u'only', 2), (u'hit', 2), (u'isis', 2), (u'years', 2), (u'him', 2), (u'enemy', 2), (u'common', 2), (u'won', 2), (u'horrible', 2), (u'probably', 2), (u'come', 2), (u'league', 2), (u'many', 2), (u'actually', 2), (u'tremendous', 2)]\n"
     ]
    }
   ],
   "source": [
    "def word_frequ(text):\n",
    "    freqs = {}\n",
    "    for word1 in text:\n",
    "        wordspl= word1.split()\n",
    "        freqs[word1] = freqs.get(wordspl[0], 0) + 1\n",
    "    return freqs\n",
    "\n",
    "wf = word_frequ(wor)\n",
    "\n",
    "#print(wf)\n",
    "# sort in reverse order\n",
    "def sort_freqs(freqs):\n",
    "    items = freqs.items()\n",
    "    items.sort(key = lambda wc: wc[1],reverse=True)\n",
    "    return items\n",
    "\n",
    "\n",
    "sorted_wrdf = sort_freqs(wf)\n",
    "print(\"d) 200 highest frequency words in this corpus* \\n\")\n",
    "print(sorted_wrdf[:200])\n",
    "\n",
    "\n"
   ]
  },
  {
   "cell_type": "code",
   "execution_count": 19,
   "metadata": {
    "collapsed": false
   },
   "outputs": [],
   "source": [
    "def Most_freqwords(freqs, n=200):\n",
    "    items = sort_freqs(freqs) if isinstance(freqs, dict) else freqs\n",
    "    #print_vk(items[:n])\n",
    "    print\n",
    "    print '%d most frequent words:' % n\n",
    "    print_vk(items[-n:])\n",
    "    #items=items.sort(reverse=True)\n",
    "    return items\n",
    "\n",
    "#mostFreqWords = sorted_wrdf[0:200]\n",
    "#print(mostFreqWords)\n",
    "#mostFreqWords = Most_freqwords(sorted_wrdf,200)\n",
    "#print(mostFreqWords)\n",
    "#summarize_centrality(centrality)"
   ]
  },
  {
   "cell_type": "markdown",
   "metadata": {},
   "source": [
    "Plot histogram and graph."
   ]
  },
  {
   "cell_type": "code",
   "execution_count": 20,
   "metadata": {
    "collapsed": false
   },
   "outputs": [],
   "source": [
    "def plot_word_histogram(freqs, show=10, title=None):\n",
    "    sorted_f = sort_freqs(freqs) if isinstance(freqs, dict) else freqs\n",
    "    #print(sorted_f)\n",
    "    if isinstance(show, int):\n",
    "        show_f = sorted_f[-show:]\n",
    "    else:\n",
    "        start = -int(round(show*len(freqs)))\n",
    "        show_f = sorted_f[start:]\n",
    "\n",
    "    n_words = len(show_f)\n",
    "    ind = np.arange(n_words)\n",
    "    words = [i[0] for i in show_f]\n",
    "    counts = [i[1] for i in show_f]\n",
    "\n",
    "    fig = plt.figure()\n",
    "    ax = fig.add_subplot(111)\n",
    "\n",
    "    ax.step(ind, counts)\n",
    "\n",
    "    if float(max(counts))/min(counts) > 100:\n",
    "        ax.set_yscale('log')\n",
    "\n",
    "    if title:\n",
    "        ax.set_title(title)\n",
    "    return ax\n",
    "\n"
   ]
  },
  {
   "cell_type": "code",
   "execution_count": 21,
   "metadata": {
    "collapsed": false
   },
   "outputs": [
    {
     "data": {
      "text/plain": [
       "<matplotlib.axes._subplots.AxesSubplot at 0x10e7065d0>"
      ]
     },
     "execution_count": 21,
     "metadata": {},
     "output_type": "execute_result"
    },
    {
     "data": {
      "image/png": "[encoded data removed]",
      "text/plain": [
       "<matplotlib.figure.Figure at 0x10cb7db50>"
      ]
     },
     "metadata": {},
     "output_type": "display_data"
    }
   ],
   "source": [
    "n_words = 200 # most frequent top 200 words\n",
    "# g)  Graph showing relative frequencies of 200 words\n",
    "plot_word_histogram(sorted_wf, n_words,\"Frequencies for %s most frequent words\" % n_words)"
   ]
  },
  {
   "cell_type": "markdown",
   "metadata": {},
   "source": [
    "g) In what ways do you think the frequency of the words in this corpus differ from “all words in all corpora.” <br>\n",
    "The plots below shows the frequency of all words. These two plots are very similar."
   ]
  },
  {
   "cell_type": "code",
   "execution_count": 22,
   "metadata": {
    "collapsed": false
   },
   "outputs": [
    {
     "data": {
      "text/plain": [
       "<matplotlib.axes._subplots.AxesSubplot at 0x10ea232d0>"
      ]
     },
     "execution_count": 22,
     "metadata": {},
     "output_type": "execute_result"
    },
    {
     "data": {
      "image/png": "[encoded data removed]",
      "text/plain": [
       "<matplotlib.figure.Figure at 0x10ea472d0>"
      ]
     },
     "metadata": {},
     "output_type": "display_data"
    }
   ],
   "source": [
    "plot_word_histogram(sorted_wf, 1.0, \"Frequencies for entire word list\")"
   ]
  },
  {
   "cell_type": "markdown",
   "metadata": {},
   "source": [
    "\n",
    "wikipedia.org -> Zipf's law states that given some corpus of natural language utterances, the frequency of any word is inversely proportional to its rank in the frequency table. Thus the most frequent word will occur approximately twice as often as the second most frequent word, three times as often as the third most frequent word, etc. For example, in the Brown Corpus of American English text, the word \"the\" is the most frequently occurring word, and by itself accounts for nearly 7% of all word occurrences (69,971 out of slightly over 1 million). True to Zipf's Law, the second-place word \"of\" accounts for slightly over 3.5% of words (36,411 occurrences), followed by \"and\" (28,852). Only 135 vocabulary items are needed to account for half the Brown Corpus.[4]"
   ]
  },
  {
   "cell_type": "code",
   "execution_count": 23,
   "metadata": {
    "collapsed": false
   },
   "outputs": [
    {
     "name": "stdout",
     "output_type": "stream",
     "text": [
      "According to Zipfs law 1.27 should be close to 1.\n",
      "And it is. So this frequency of this corpus follows zipfs law\n"
     ]
    },
    {
     "data": {
      "image/png": "[encoded data removed]",
      "text/plain": [
       "<matplotlib.figure.Figure at 0x10eae7050>"
      ]
     },
     "metadata": {},
     "output_type": "display_data"
    }
   ],
   "source": [
    "\n",
    "\n",
    "def powerLaw(y, x):\n",
    "    \"\"\"\n",
    "    'When the frequency of an word varies as power of some attribute of that\n",
    "    word, the frequency is said to follow a power law.' (wikipedia)\"\n",
    "    \"\"\"\n",
    "    c = 0\n",
    "    alpha = .0\n",
    "\n",
    "    if len(y) and len(y)==len(x):\n",
    "        c = max(y)\n",
    "        xmin = float(min(x))\n",
    "        alpha = 1 + len(x) * pow(sum(np.log(x/xmin)),-1)\n",
    "\n",
    "    return (c, alpha)\n",
    "\n",
    "\n",
    "import matplotlib.pyplot as plt\n",
    "\n",
    "def plotPowerLaws(y, x, c=[], alpha=[]):\n",
    "    \"\"\"\n",
    "    Plots the relationship between x and y and a fitted power law on LogLog scale.\n",
    "    Args\n",
    "    \"\"\"\n",
    "    plt.figure()\n",
    "    plt.loglog()\n",
    "    plt.plot(x,y,'r+')\n",
    "    for _c, _alpha in zip(c,alpha):\n",
    "        plt.plot( (1, max(x)),(_c, _c * pow(max(x), _alpha)),label='~x^%.2f' % _alpha)\n",
    "        plt.legend()\n",
    "    plt.show()\n",
    "\n",
    "\n",
    "\n",
    "if __name__ == '__main__':\n",
    "    \"\"\"\n",
    "    Checking Zipfs law, where the frequency and rank of a word follow a\n",
    "    specific power law, using the nltk genesis text in english.\n",
    "    \"\"\"\n",
    "    from collections import defaultdict\n",
    "    import numpy as np\n",
    "    from nltk.corpus import genesis\n",
    "    #words = genesis.raw('english-web.txt').split(' ')\n",
    "    #print(pop_words)\n",
    "    y = defaultdict(int)\n",
    "    for i in pop_words:\n",
    "        y[i]+=1\n",
    "    y = sorted(y.values(),reverse=True)\n",
    "    x = np.array(xrange(1,len(y)+1))\n",
    "\n",
    "    c, alpha = powerLaw(y, x)\n",
    "    print(\"According to Zipfs law %.2f should be close to 1.\" % alpha)\n",
    "    print(\"And it is. So this frequency of this corpus follows zipfs law\")\n",
    "    \n",
    "    plotPowerLaws(y, x, [c,c], [-1,-alpha])"
   ]
  },
  {
   "cell_type": "code",
   "execution_count": null,
   "metadata": {
    "collapsed": true
   },
   "outputs": [],
   "source": []
  },
  {
   "cell_type": "code",
   "execution_count": null,
   "metadata": {
    "collapsed": true
   },
   "outputs": [],
   "source": []
  }
 ],
 "metadata": {
  "kernelspec": {
   "display_name": "Python 2",
   "language": "python",
   "name": "python2"
  },
  "language_info": {
   "codemirror_mode": {
    "name": "ipython",
    "version": 2
   },
   "file_extension": ".py",
   "mimetype": "text/x-python",
   "name": "python",
   "nbconvert_exporter": "python",
   "pygments_lexer": "ipython2",
   "version": "2.7.10"
  }
 },
 "nbformat": 4,
 "nbformat_minor": 0
}
